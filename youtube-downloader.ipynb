{
 "cells": [
  {
   "cell_type": "markdown",
   "metadata": {},
   "source": [
    "**1. python script for downloading any video from youtube to specific path in operating system**"
   ]
  },
  {
   "cell_type": "markdown",
   "metadata": {},
   "source": [
    "---"
   ]
  },
  {
   "cell_type": "code",
   "execution_count": null,
   "metadata": {},
   "outputs": [],
   "source": [
    "from pytube import YouTube\n",
    "link = input(\"type link for video you want to download\")\n",
    "video = YouTube(link)\n",
    "\n",
    "def finish():\n",
    "    print(\"done...:)\")\n",
    "\n",
    "path = input(\"enter path to download in:\")\n",
    "video.streams.get_highest_resolution().download(path)\n",
    "video.register_on_complete_callback(finish())\n"
   ]
  }
 ],
 "metadata": {
  "language_info": {
   "name": "python"
  },
  "orig_nbformat": 4
 },
 "nbformat": 4,
 "nbformat_minor": 2
}
