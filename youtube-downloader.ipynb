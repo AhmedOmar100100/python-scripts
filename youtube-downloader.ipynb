{
 "cells": [
  {
   "cell_type": "markdown",
   "metadata": {},
   "source": [
    "**1. python script for downloading any video and any playlist from youtube to specific path in operating system**"
   ]
  },
  {
   "cell_type": "markdown",
   "metadata": {},
   "source": [
    "---"
   ]
  },
  {
   "cell_type": "code",
   "execution_count": null,
   "metadata": {},
   "outputs": [],
   "source": [
    "from pytube import YouTube\n",
    "from pytube import Playlist\n",
    "print(\"==========================================\")\n",
    "print(\"Welcome To YOUTUBE DOWNLOADER Program:)\")\n",
    "print(\"==========================================\")\n",
    "\n",
    "\n",
    "def finish():\n",
    "    print(\"done...:)\")\n",
    "\n",
    "\n",
    "while True:\n",
    "    print(\"Choose which operation do you want to do\")\n",
    "    print(\"*******************\\n1. Download Video\\n2. Download playlist\\n***********************\")\n",
    "    choice = int(input(\"Type Your choice: \"))\n",
    "    if choice == 1:\n",
    "        link = input(\"type link for video you want to download:\")\n",
    "        video = YouTube(link)\n",
    "        path = input(\"enter path to download in:\")\n",
    "        print(\"Downloading ..............\")\n",
    "        video.streams.get_highest_resolution().download(path)\n",
    "        video.register_on_complete_callback(finish())\n",
    "\n",
    "    elif choice == 2:\n",
    "        PlayListLink = input(\"type link for playlist you want to download:\")\n",
    "        playlist = Playlist(PlayListLink)\n",
    "        path = input(\"enter path to download in:\")\n",
    "        for video in playlist.videos:\n",
    "            video.streams.get_highest_resolution().download(path)\n",
    "            video.register_on_complete_callback(finish())\n",
    "    print(\"Do You want to continue?\\nPress y To continue..\")\n",
    "    repeat = input()\n",
    "    if repeat != \"y\" or repeat != \"Y\":\n",
    "        break\n"
   ]
  }
 ],
 "metadata": {
  "interpreter": {
   "hash": "1b64b5e3b6c804db9e6519f66eac7a712f0473034476bf46993e59a4b7f3c6a6"
  },
  "kernelspec": {
   "display_name": "Python 3.10.0 64-bit",
   "language": "python",
   "name": "python3"
  },
  "language_info": {
   "codemirror_mode": {
    "name": "ipython",
    "version": 3
   },
   "file_extension": ".py",
   "mimetype": "text/x-python",
   "name": "python",
   "nbconvert_exporter": "python",
   "pygments_lexer": "ipython3",
   "version": "3.10.0"
  },
  "orig_nbformat": 4
 },
 "nbformat": 4,
 "nbformat_minor": 2
}
